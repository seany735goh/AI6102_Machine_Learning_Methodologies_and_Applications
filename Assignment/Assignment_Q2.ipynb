{
 "cells": [
  {
   "cell_type": "code",
   "execution_count": 1,
   "id": "fafdd84b",
   "metadata": {
    "ExecuteTime": {
     "end_time": "2023-02-15T02:23:51.733096Z",
     "start_time": "2023-02-15T02:20:25.395200Z"
    }
   },
   "outputs": [
    {
     "name": "stdout",
     "output_type": "stream",
     "text": [
      "Linear kernel:\n"
     ]
    },
    {
     "data": {
      "text/html": [
       "<div>\n",
       "<style scoped>\n",
       "    .dataframe tbody tr th:only-of-type {\n",
       "        vertical-align: middle;\n",
       "    }\n",
       "\n",
       "    .dataframe tbody tr th {\n",
       "        vertical-align: top;\n",
       "    }\n",
       "\n",
       "    .dataframe thead th {\n",
       "        text-align: right;\n",
       "    }\n",
       "</style>\n",
       "<table border=\"1\" class=\"dataframe\">\n",
       "  <thead>\n",
       "    <tr style=\"text-align: right;\">\n",
       "      <th></th>\n",
       "      <th>C=0.01</th>\n",
       "      <th>C=0.05</th>\n",
       "      <th>C=0.1</th>\n",
       "      <th>C=0.5</th>\n",
       "      <th>C=1</th>\n",
       "    </tr>\n",
       "  </thead>\n",
       "  <tbody>\n",
       "    <tr>\n",
       "      <th>0</th>\n",
       "      <td>0.844016</td>\n",
       "      <td>0.846104</td>\n",
       "      <td>0.846442</td>\n",
       "      <td>0.846934</td>\n",
       "      <td>0.84721</td>\n",
       "    </tr>\n",
       "  </tbody>\n",
       "</table>\n",
       "</div>"
      ],
      "text/plain": [
       "     C=0.01    C=0.05     C=0.1     C=0.5      C=1\n",
       "0  0.844016  0.846104  0.846442  0.846934  0.84721"
      ]
     },
     "metadata": {},
     "output_type": "display_data"
    }
   ],
   "source": [
    "import numpy as np\n",
    "import pandas as pd\n",
    "from sklearn.svm import SVC\n",
    "from sklearn.datasets import load_svmlight_file\n",
    "from sklearn.model_selection import cross_val_score\n",
    "\n",
    "train = load_svmlight_file(\"Assignment_Q2_Train.txt\")\n",
    "x = train[0]\n",
    "y = train[1]\n",
    "\n",
    "print('Linear kernel:')\n",
    "c = np.array([0.01, 0.05, 0.1, 0.5, 1])\n",
    "scores_1 = np.zeros(len(c))\n",
    "for i in range(len(c)):\n",
    "    model = SVC(C=c[i], kernel='linear')\n",
    "    score = cross_val_score(model, x, y, cv=3)\n",
    "    scores_1[i] = np.mean(score)\n",
    "\n",
    "scores_1 = np.reshape(scores_1, (1,len(c)))\n",
    "table_1 = pd.DataFrame(scores_1, columns=['C=0.01', 'C=0.05', 'C=0.1', 'C=0.5', 'C=1'])\n",
    "display(table_1)"
   ]
  },
  {
   "cell_type": "code",
   "execution_count": 2,
   "id": "dc4adb4d",
   "metadata": {
    "ExecuteTime": {
     "end_time": "2023-02-15T02:58:08.490252Z",
     "start_time": "2023-02-15T02:23:51.735538Z"
    }
   },
   "outputs": [
    {
     "name": "stdout",
     "output_type": "stream",
     "text": [
      "RBF kernel:\n"
     ]
    },
    {
     "data": {
      "text/html": [
       "<div>\n",
       "<style scoped>\n",
       "    .dataframe tbody tr th:only-of-type {\n",
       "        vertical-align: middle;\n",
       "    }\n",
       "\n",
       "    .dataframe tbody tr th {\n",
       "        vertical-align: top;\n",
       "    }\n",
       "\n",
       "    .dataframe thead th {\n",
       "        text-align: right;\n",
       "    }\n",
       "</style>\n",
       "<table border=\"1\" class=\"dataframe\">\n",
       "  <thead>\n",
       "    <tr style=\"text-align: right;\">\n",
       "      <th></th>\n",
       "      <th>g=0.01</th>\n",
       "      <th>g=0.05</th>\n",
       "      <th>g=0.1</th>\n",
       "      <th>g=0.5</th>\n",
       "      <th>g=1</th>\n",
       "    </tr>\n",
       "  </thead>\n",
       "  <tbody>\n",
       "    <tr>\n",
       "      <th>0</th>\n",
       "      <td>0.759190</td>\n",
       "      <td>0.819907</td>\n",
       "      <td>0.819846</td>\n",
       "      <td>0.759190</td>\n",
       "      <td>0.759190</td>\n",
       "    </tr>\n",
       "    <tr>\n",
       "      <th>1</th>\n",
       "      <td>0.831209</td>\n",
       "      <td>0.835755</td>\n",
       "      <td>0.834250</td>\n",
       "      <td>0.789165</td>\n",
       "      <td>0.759190</td>\n",
       "    </tr>\n",
       "    <tr>\n",
       "      <th>2</th>\n",
       "      <td>0.837720</td>\n",
       "      <td>0.839655</td>\n",
       "      <td>0.838764</td>\n",
       "      <td>0.806118</td>\n",
       "      <td>0.761985</td>\n",
       "    </tr>\n",
       "    <tr>\n",
       "      <th>3</th>\n",
       "      <td>0.842972</td>\n",
       "      <td>0.845766</td>\n",
       "      <td>0.846811</td>\n",
       "      <td>0.832161</td>\n",
       "      <td>0.789748</td>\n",
       "    </tr>\n",
       "    <tr>\n",
       "      <th>4</th>\n",
       "      <td>0.844415</td>\n",
       "      <td>0.846749</td>\n",
       "      <td>0.847425</td>\n",
       "      <td>0.836614</td>\n",
       "      <td>0.798286</td>\n",
       "    </tr>\n",
       "  </tbody>\n",
       "</table>\n",
       "</div>"
      ],
      "text/plain": [
       "     g=0.01    g=0.05     g=0.1     g=0.5       g=1\n",
       "0  0.759190  0.819907  0.819846  0.759190  0.759190\n",
       "1  0.831209  0.835755  0.834250  0.789165  0.759190\n",
       "2  0.837720  0.839655  0.838764  0.806118  0.761985\n",
       "3  0.842972  0.845766  0.846811  0.832161  0.789748\n",
       "4  0.844415  0.846749  0.847425  0.836614  0.798286"
      ]
     },
     "metadata": {},
     "output_type": "display_data"
    }
   ],
   "source": [
    "print('RBF kernel:')\n",
    "c = np.array([0.01, 0.05, 0.1, 0.5, 1])\n",
    "g = np.array([0.01, 0.05, 0.1, 0.5, 1])\n",
    "scores_2 = np.zeros((len(c),len(g)))\n",
    "for i in range(len(c)):\n",
    "    for j in range(len(g)):\n",
    "        model = SVC(C=c[i], kernel='rbf', gamma=g[j])\n",
    "        score = cross_val_score(model, x, y, cv=3)\n",
    "        scores_2[i,j] = np.mean(score)\n",
    "\n",
    "table_2 = pd.DataFrame(scores_2, columns=['g=0.01', 'g=0.05', 'g=0.1', 'g=0.5', 'g=1'])\n",
    "table_2.rename(index={0: \"C=0.01\", 1: \"C=0.05\", 2: \"C=0.1\", 3: \"C=0.5\", 4: \"C=1\"})\n",
    "display(table_2)"
   ]
  },
  {
   "cell_type": "code",
   "execution_count": 3,
   "id": "8cea040c",
   "metadata": {
    "ExecuteTime": {
     "end_time": "2023-02-15T02:58:08.498210Z",
     "start_time": "2023-02-15T02:58:08.494950Z"
    }
   },
   "outputs": [
    {
     "name": "stdout",
     "output_type": "stream",
     "text": [
      "Table 1 max score is : 0.847209926504247\n",
      "Table 2 max score is : 0.847424892525337\n"
     ]
    }
   ],
   "source": [
    "table_1_max = np.max(scores_1)\n",
    "table_2_max = np.max(scores_2)\n",
    "print(f'Table 1 max score is : {table_1_max}')\n",
    "print(f'Table 2 max score is : {table_2_max}')"
   ]
  },
  {
   "cell_type": "code",
   "execution_count": 4,
   "id": "71088bcd",
   "metadata": {
    "ExecuteTime": {
     "end_time": "2023-02-15T02:58:43.501273Z",
     "start_time": "2023-02-15T02:58:08.499913Z"
    }
   },
   "outputs": [
    {
     "data": {
      "text/plain": [
       "0.850316319636386"
      ]
     },
     "execution_count": 4,
     "metadata": {},
     "output_type": "execute_result"
    }
   ],
   "source": [
    "from sklearn.datasets import load_svmlight_file\n",
    "\n",
    "test = load_svmlight_file(\"Assignment_Q2_Test.txt\")\n",
    "x_test = test[0]\n",
    "y_test = test[1]\n",
    "num_features = min(x_test.shape[1], x.shape[1])\n",
    "\n",
    "x = x[:,0:num_features]\n",
    "x_test = x_test[:,0:num_features]\n",
    "\n",
    "model = SVC(C=1, kernel='rbf', gamma=0.1)\n",
    "model.fit(x, y)\n",
    "model.score(x_test, y_test)\n"
   ]
  },
  {
   "cell_type": "code",
   "execution_count": 5,
   "id": "8a51d2ea",
   "metadata": {
    "ExecuteTime": {
     "end_time": "2023-02-15T02:58:43.505291Z",
     "start_time": "2023-02-15T02:58:43.502553Z"
    }
   },
   "outputs": [
    {
     "data": {
      "text/plain": [
       "(32561, 122)"
      ]
     },
     "execution_count": 5,
     "metadata": {},
     "output_type": "execute_result"
    }
   ],
   "source": [
    "x_test.shape\n",
    "x.shape"
   ]
  }
 ],
 "metadata": {
  "kernelspec": {
   "display_name": "Python 3 (ipykernel)",
   "language": "python",
   "name": "python3"
  },
  "language_info": {
   "codemirror_mode": {
    "name": "ipython",
    "version": 3
   },
   "file_extension": ".py",
   "mimetype": "text/x-python",
   "name": "python",
   "nbconvert_exporter": "python",
   "pygments_lexer": "ipython3",
   "version": "3.9.12"
  }
 },
 "nbformat": 4,
 "nbformat_minor": 5
}
